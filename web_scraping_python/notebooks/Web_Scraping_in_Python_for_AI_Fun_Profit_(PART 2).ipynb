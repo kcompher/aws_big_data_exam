{
 "cells": [
  {
   "cell_type": "markdown",
   "metadata": {},
   "source": [
    "## Scraping Tools (Doing The Work)\n",
    "### Beautiful Soup\n",
    "\n",
    "Using [Beautiful Soup](https://www.crummy.com/software/BeautifulSoup/bs4/doc/) to Download Data From Arbitrary Web Pages"
   ]
  },
  {
   "cell_type": "code",
   "execution_count": 1,
   "metadata": {},
   "outputs": [],
   "source": [
    "from bs4 import BeautifulSoup\n",
    "import requests"
   ]
  },
  {
   "cell_type": "markdown",
   "metadata": {},
   "source": [
    "#### Crawling Yahoo Sports\n",
    "Page is converted into Beautiful Soup Object after it is fetched with requests library"
   ]
  },
  {
   "cell_type": "code",
   "execution_count": 2,
   "metadata": {},
   "outputs": [],
   "source": [
    "#Download the page and convert it into a beautiful soup object\n",
    "yahoo_sports_url = \"https://sports.yahoo.com/nba/stats/\"\n",
    "res = requests.get(yahoo_sports_url)\n",
    "soup = BeautifulSoup(res.content, 'html.parser')\n"
   ]
  },
  {
   "cell_type": "markdown",
   "metadata": {},
   "source": [
    "#### Links containing a player profile are found\n",
    "The page is parsed by looking for the \"a\" tags, as in ```<a href>```, then a link is fetched, and put in a list if it has nba/players in the url."
   ]
  },
  {
   "cell_type": "code",
   "execution_count": 3,
   "metadata": {},
   "outputs": [
    {
     "name": "stdout",
     "output_type": "stream",
     "text": [
      "https://sports.yahoo.com/nba/players/5432/\n",
      "https://sports.yahoo.com/nba/players/5352/\n",
      "https://sports.yahoo.com/nba/players/5012/\n",
      "https://sports.yahoo.com/nba/players/4175/\n",
      "https://sports.yahoo.com/nba/players/4388/\n",
      "https://sports.yahoo.com/nba/players/5015/\n",
      "https://sports.yahoo.com/nba/players/5083/\n",
      "https://sports.yahoo.com/nba/players/5352/\n",
      "https://sports.yahoo.com/nba/players/4897/\n",
      "https://sports.yahoo.com/nba/players/4497/\n",
      "https://sports.yahoo.com/nba/players/5007/\n",
      "https://sports.yahoo.com/nba/players/5186/\n",
      "https://sports.yahoo.com/nba/players/5327/\n",
      "https://sports.yahoo.com/nba/players/4486/\n",
      "https://sports.yahoo.com/nba/players/5336/\n",
      "https://sports.yahoo.com/nba/players/4716/\n",
      "https://sports.yahoo.com/nba/players/5600/\n",
      "https://sports.yahoo.com/nba/players/5160/\n",
      "https://sports.yahoo.com/nba/players/4390/\n",
      "https://sports.yahoo.com/nba/players/3930/\n",
      "https://sports.yahoo.com/nba/players/4563/\n",
      "https://sports.yahoo.com/nba/players/5007/\n",
      "https://sports.yahoo.com/nba/players/3704/\n",
      "https://sports.yahoo.com/nba/players/5185/\n",
      "https://sports.yahoo.com/nba/players/5012/\n",
      "https://sports.yahoo.com/nba/players/5015/\n",
      "https://sports.yahoo.com/nba/players/4497/\n",
      "https://sports.yahoo.com/nba/players/5432/\n",
      "https://sports.yahoo.com/nba/players/3818/\n",
      "https://sports.yahoo.com/nba/players/5007/\n",
      "https://sports.yahoo.com/nba/players/5007/\n",
      "https://sports.yahoo.com/nba/players/5336/\n",
      "https://sports.yahoo.com/nba/players/5471/\n",
      "https://sports.yahoo.com/nba/players/4244/\n",
      "https://sports.yahoo.com/nba/players/5294/\n",
      "https://sports.yahoo.com/nba/players/4390/\n",
      "https://sports.yahoo.com/nba/players/3704/\n",
      "https://sports.yahoo.com/nba/players/4563/\n",
      "https://sports.yahoo.com/nba/players/5600/\n",
      "https://sports.yahoo.com/nba/players/4149/\n"
     ]
    }
   ],
   "source": [
    "#Get urls in page via the 'a' tag and filter for nba/players in urls\n",
    "nba_player_urls = []\n",
    "for link in soup.find_all('a'):\n",
    "    link_url = link.get('href')\n",
    "    #Discard \"None\"\n",
    "    if link_url:\n",
    "        if \"nba/players\" in link_url:\n",
    "            print(link_url)\n",
    "            nba_player_urls.append(link_url)"
   ]
  },
  {
   "cell_type": "code",
   "execution_count": 8,
   "metadata": {},
   "outputs": [],
   "source": [
    "#look at a single link\n",
    "one_url = nba_player_urls[0]\n",
    "res_one_url = requests.get(one_url)\n",
    "soup_one_url = BeautifulSoup(res_one_url.content, 'html.parser')"
   ]
  },
  {
   "cell_type": "code",
   "execution_count": 10,
   "metadata": {},
   "outputs": [
    {
     "name": "stdout",
     "output_type": "stream",
     "text": [
      " Minnesota Pts21.2Reb12.3Ast2.4Height: 7' 0\"Weight: 248Born: College: KentuckyBirth Place: Edison\n"
     ]
    }
   ],
   "source": [
    "#find the line with Birth Place\n",
    "lines = soup_one_url.text\n",
    "res2 = lines.split(\",\")\n",
    "key_line = []\n",
    "for line in res2:\n",
    "    if \"Birth\" in line:\n",
    "        print(line)\n",
    "        key_line.append(line)"
   ]
  },
  {
   "cell_type": "code",
   "execution_count": 11,
   "metadata": {},
   "outputs": [
    {
     "name": "stdout",
     "output_type": "stream",
     "text": [
      "Edison\n"
     ]
    }
   ],
   "source": [
    "# Extract Birthplace\n",
    "birth_place = key_line[0].split(\":\")[-1].strip()\n",
    "print(birth_place)"
   ]
  },
  {
   "cell_type": "markdown",
   "metadata": {},
   "source": [
    "#### Function to Extract Birthplaces\n",
    "A function is then created using the exploritory code to extract all of the Birthplaces from the page."
   ]
  },
  {
   "cell_type": "code",
   "execution_count": null,
   "metadata": {},
   "outputs": [
    {
     "name": "stdout",
     "output_type": "stream",
     "text": [
      "Minnesota Pts21.2Reb12.3Ast2.4Height: 7' 0\"Weight: 248Born: College: KentuckyBirth Place: Edison\n",
      "Denver Pts18.1Reb10.6Ast6.0Height: 6' 10\"Weight: 250Born: College: NoneBirth Place: Sombor\n",
      "Portland Pts26.7Reb4.5Ast6.6Height: 6' 3\"Weight: 195Born: College: Weber StateBirth Place: Oakland\n",
      "Denver Pts15.1Reb6.5Ast2.8Height: 6' 8\"Weight: 246Born: College: Louisiana TechBirth Place: Monroe\n",
      "New York Pts13.3Reb5.7Ast1.7Height: 6' 9\"Weight: 235Born: College: Kansas StateBirth Place: Frederick\n"
     ]
    }
   ],
   "source": [
    "def find_birthplaces(urls):\n",
    "    \"\"\"Get the Birthplaces\"\"\"\n",
    "    for url in urls:\n",
    "        profile = requests.get(url)\n",
    "        profile_url = BeautifulSoup(profile.content, 'html.parser')\n",
    "        lines = profile_url.text\n",
    "        res2 = lines.split(\",\")\n",
    "        key_line = []\n",
    "        for line in res2:\n",
    "            if \"Birth\" in line:\n",
    "                #print(line)\n",
    "                key_line.append(line)\n",
    "        birth_place = None\n",
    "        try:\n",
    "            birth_place = key_line[0].split(\"*\")[-1].strip()\n",
    "        except IndexError:\n",
    "            print(f\"skipping {url}\")\n",
    "        print(birth_place)\n",
    "\n",
    "        \n",
    "find_birthplaces(nba_player_urls)"
   ]
  },
  {
   "cell_type": "markdown",
   "metadata": {},
   "source": [
    "### Scrapy\n",
    "\n",
    "[Scrapy](https://scrapy.org/) is a library to build web spiders"
   ]
  },
  {
   "cell_type": "code",
   "execution_count": null,
   "metadata": {},
   "outputs": [],
   "source": []
  }
 ],
 "metadata": {
  "kernelspec": {
   "display_name": "Python 3",
   "language": "python",
   "name": "python3"
  },
  "language_info": {
   "codemirror_mode": {
    "name": "ipython",
    "version": 3
   },
   "file_extension": ".py",
   "mimetype": "text/x-python",
   "name": "python",
   "nbconvert_exporter": "python",
   "pygments_lexer": "ipython3",
   "version": "3.6.4"
  },
  "toc": {
   "nav_menu": {},
   "number_sections": true,
   "sideBar": true,
   "skip_h1_title": false,
   "title_cell": "Table of Contents",
   "title_sidebar": "Contents",
   "toc_cell": false,
   "toc_position": {},
   "toc_section_display": true,
   "toc_window_display": false
  }
 },
 "nbformat": 4,
 "nbformat_minor": 2
}
